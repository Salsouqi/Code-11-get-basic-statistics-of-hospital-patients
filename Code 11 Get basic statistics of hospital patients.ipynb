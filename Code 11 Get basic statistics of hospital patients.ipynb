{
 "cells": [
  {
   "cell_type": "code",
   "execution_count": 99,
   "id": "b057f41c",
   "metadata": {},
   "outputs": [],
   "source": [
    "#data lists from the text file\n",
    "data = [\n",
    "    {\"Name\": \"John Doe\", \"Age\": 45, \"Gender\": \"Male\", \"BloodPressure\": (120,80), \"Temperature\": 36.8},\n",
    "    {\"Name\": \"Jane Smith\", \"Age\": 32, \"Gender\": \"Female\", \"BloodPressure\": (130,85), \"Temperature\": 37.2},\n",
    "    {\"Name\": \"Alice Johnson\", \"Age\": 50, \"Gender\": \"Female\", \"BloodPressure\": (140,90), \"Temperature\": 36.5},\n",
    "    {\"Name\": \"Michael Brown\", \"Age\": 55, \"Gender\": \"Male\", \"BloodPressure\": (135,82), \"Temperature\": 37.0},\n",
    "    {\"Name\": \"Emily Wilson\", \"Age\": 40, \"Gender\": \"Female\", \"BloodPressure\": (125,78), \"Temperature\": 36.9}\n",
    "]\n"
   ]
  },
  {
   "cell_type": "code",
   "execution_count": 100,
   "id": "c7efbaec",
   "metadata": {},
   "outputs": [
    {
     "name": "stdout",
     "output_type": "stream",
     "text": [
      "Average patient age is: 44.4\n"
     ]
    }
   ],
   "source": [
    "# Ages from the data\n",
    "ages = [person[\"Age\"] for person in data]\n",
    "\n",
    "# Calculate the average age\n",
    "average_age = sum(ages) / len(ages)\n",
    "\n",
    "print(f\"Average patient age is: {average_age}\")"
   ]
  },
  {
   "cell_type": "code",
   "execution_count": 104,
   "id": "a9bb8d9a",
   "metadata": {},
   "outputs": [
    {
     "name": "stdout",
     "output_type": "stream",
     "text": [
      "Number of Male patients: 2\n",
      "Number of Female patients: 3\n"
     ]
    }
   ],
   "source": [
    "# Initialize counts set to zero to start loop from to iterate through\n",
    "male_count = 0\n",
    "female_count = 0\n",
    "\n",
    "# Count male and female patients\n",
    "for person in data:\n",
    "    if person[\"Gender\"] == \"Male\":\n",
    "        male_count += 1\n",
    "    elif person[\"Gender\"] == \"Female\":\n",
    "        female_count += 1 \n",
    "        \n",
    "print(f\"Number of Male patients: {male_count}\")\n",
    "print(f\"Number of Female patients: {female_count}\")"
   ]
  },
  {
   "cell_type": "code",
   "execution_count": 106,
   "id": "f55844c9",
   "metadata": {},
   "outputs": [
    {
     "name": "stdout",
     "output_type": "stream",
     "text": [
      "Highest blood pressure: 140/90\n",
      "Lowest blood pressure: 120/78\n"
     ]
    }
   ],
   "source": [
    "# Extract systolic and diastolic pressures separately\n",
    "systolic_pressures = [blood_pressure[0] if isinstance(blood_pressure, tuple) else int(blood_pressure.split(\"/\")[0]) for blood_pressure in (p[\"BloodPressure\"] for p in data)]\n",
    "diastolic_pressures = [blood_pressure[1] if isinstance(blood_pressure, tuple) else int(blood_pressure.split(\"/\")[1]) for blood_pressure in (p[\"BloodPressure\"] for p in data)]\n",
    "\n",
    "# Find the highest and lowest blood pressure readings\n",
    "highest_pressure = max(systolic_pressures), max(diastolic_pressures)\n",
    "lowest_pressure = min(systolic_pressures), min(diastolic_pressures)\n",
    "\n",
    "# Print the results\n",
    "print(f\"Highest blood pressure: {highest_pressure[0]}/{highest_pressure[1]}\")\n",
    "print(f\"Lowest blood pressure: {lowest_pressure[0]}/{lowest_pressure[1]}\")"
   ]
  },
  {
   "cell_type": "code",
   "execution_count": 107,
   "id": "31f5ba4d",
   "metadata": {},
   "outputs": [
    {
     "name": "stdout",
     "output_type": "stream",
     "text": [
      "The average temperature is: 36.88\n"
     ]
    }
   ],
   "source": [
    "# Extract temperatures\n",
    "temperatures = [person[\"Temperature\"] for person in data]\n",
    "\n",
    "# Calculate the average temperature\n",
    "average_temperature = sum(temperatures) / len(temperatures)\n",
    "\n",
    "# Print the result\n",
    "print(f\"The average temperature is: {average_temperature}\")"
   ]
  }
 ],
 "metadata": {
  "kernelspec": {
   "display_name": "Python 3 (ipykernel)",
   "language": "python",
   "name": "python3"
  },
  "language_info": {
   "codemirror_mode": {
    "name": "ipython",
    "version": 3
   },
   "file_extension": ".py",
   "mimetype": "text/x-python",
   "name": "python",
   "nbconvert_exporter": "python",
   "pygments_lexer": "ipython3",
   "version": "3.11.4"
  }
 },
 "nbformat": 4,
 "nbformat_minor": 5
}
